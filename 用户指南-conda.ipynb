{
 "cells": [
  {
   "cell_type": "markdown",
   "metadata": {},
   "source": [
    "教程地址 https://conda.io/projects/conda/en/latest/"
   ]
  },
  {
   "cell_type": "markdown",
   "metadata": {},
   "source": [
    "# Concepts\n",
    "+ Conda commands\n",
    "+ Conda packages\n",
    "+ Conda package specification\n",
    "+ Conda channels\n",
    "+ Conda environments\n",
    "+ Installing with conda\n",
    "+ Conda performance\n",
    "+ Conda for data scientists"
   ]
  },
  {
   "cell_type": "markdown",
   "metadata": {},
   "source": [
    "## Conda commands\n",
    "作用：\n",
    "+ conda命令可以查询并搜索Anaconda包索引和当前Anaconda安装\n",
    "+ 创建新的conda环境\n",
    "+ 在现有的conda环境中安装和更新包  \n",
    "\n",
    "> Tips:  \n",
    "> You can abbreviate many frequently used command options that are preceded by 2 dashes (--) to just 1 dash and the first letter of the option. So --name and -n are the same, and --envs and -e are the same.\n",
    "\n",
    "command reference https://conda.io/projects/conda/en/latest/commands.html  \n",
    "Viewing command-line help https://conda.io/projects/conda/en/latest/user-guide/tasks/view-command-line-help.html "
   ]
  },
  {
   "cell_type": "markdown",
   "metadata": {},
   "source": [
    "## Conda packages\n",
    "### What is a conda package?\n",
    "A conda package is a compressed tarball file (.tar.bz2) or .conda file that contains:\n",
    "+ system-level libraries  \n",
    "+ Python or other modules  \n",
    "+ executable programs and other components  \n",
    "+ metadata under the info/ directory  \n",
    "+ a collection of files that are installed directly into an install prefix\n",
    "\n",
    "### .conda file format\n",
    "These compressed files can be significantly smaller than their bzip2 equivalents. In addition, they decompress much more quickly. .conda is the preferred file format to use where available, although we continue to provide .tar.bz2 files in tandem.\n",
    "> Note  \n",
    "> In conda 4.7 and later, you cannot use package names that end in “.conda” as they conflict with the .conda file format for packages.\n",
    "\n",
    "### Using packages\n",
    "+ You may search for packages\n",
    "      conda search scipy\n",
    "+ You may install a packages\n",
    "      conda install scipy\n",
    "+ You may build a package after installing conda build\n",
    "      conda build my_fun_package\n",
    "   \n",
    "\n",
    "### Package structure\n",
    "    .\n",
    "    ├── bin\n",
    "    │   └── pyflakes\n",
    "    ├── info\n",
    "    │   ├── LICENSE.txt\n",
    "    │   ├── files\n",
    "    │   ├── index.json\n",
    "    │   ├── paths.json\n",
    "    │   └── recipe\n",
    "    └── lib\n",
    "        └── python3.5\n",
    "\n",
    "+ bin contains relevant binaries for the package\n",
    "+ lib contains the relevant library files (eg. the .py files)\n",
    "+ info contains package metadata\n",
    "\n",
    "### Metapackages\n",
    "当conda包仅用于元数据不含任何文件时，它被称为元包  \n",
    "An example of a metapackage is \"anaconda,\" which collects together all the packages in the Anaconda installer. The command conda create -n envname anaconda creates an environment that exactly matches what would be created from the Anaconda installer. You can create metapackages with the conda metapackage command. Include the name and version in the command.  \n",
    "*Anaconda metapackage*  \n",
    "The Anaconda metapackage is used in the creation of the Anaconda Distribution installers so that they have a set of packages associated with them.  \n",
    "read more https://www.anaconda.com/whats-in-a-name-clarifying-the-anaconda-metapackage/"
   ]
  }
 ],
 "metadata": {
  "kernelspec": {
   "display_name": "Python 3",
   "language": "python",
   "name": "python3"
  },
  "language_info": {
   "codemirror_mode": {
    "name": "ipython",
    "version": 3
   },
   "file_extension": ".py",
   "mimetype": "text/x-python",
   "name": "python",
   "nbconvert_exporter": "python",
   "pygments_lexer": "ipython3",
   "version": "3.7.1"
  }
 },
 "nbformat": 4,
 "nbformat_minor": 2
}
