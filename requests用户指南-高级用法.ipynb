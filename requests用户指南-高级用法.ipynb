{
 "cells": [
  {
   "cell_type": "markdown",
   "metadata": {},
   "source": [
    "# 会话对象\n",
    "requests requests.Session requests.Session()  \n",
    "requests requests.Session s.get()  \n",
    "requests requests.Response r.text  \n",
    "requests requests.Session s.auth  \n",
    "requests requests.Session s.headers  \n",
    "requests requests.cookies.RequestsCookieJar update()"
   ]
  },
  {
   "cell_type": "code",
   "execution_count": null,
   "metadata": {},
   "outputs": [],
   "source": [
    "import requests\n",
    "from requests import Request, Session\n",
    "import json"
   ]
  },
  {
   "cell_type": "code",
   "execution_count": null,
   "metadata": {},
   "outputs": [],
   "source": [
    "#我们来跨请求保持一些 cookie:\n",
    "s = requests.Session()\n",
    "s.get('http://httpbin.org/cookies/set/sessioncookie/123456789')\n",
    "r =s.get('http://httpbin.org/cookies')\n",
    "print(r.text)"
   ]
  },
  {
   "cell_type": "code",
   "execution_count": null,
   "metadata": {},
   "outputs": [],
   "source": [
    "#会话也可用来为请求方法提供缺省数据。这是通过为会话对象的属性提供数据来实现的\n",
    "s = requests.Session()\n",
    "s.auth=('user','pass')\n",
    "s.headers.update({'x-test':'true'})\n",
    "# both 'x-test' and 'x-test2' are sent\n",
    "s.get('http://httpbin.org/headers',headers={'x-test2':'true'})"
   ]
  },
  {
   "cell_type": "code",
   "execution_count": null,
   "metadata": {
    "scrolled": true
   },
   "outputs": [],
   "source": [
    "#需要注意，就算使用了会话，方法级别的参数也不会被跨请求保持\n",
    "print(r.text)\n",
    "r = s.get('http://httpbin.org/cookies',cookies={'from-my':'browser'})\n",
    "print(r.text)"
   ]
  },
  {
   "cell_type": "code",
   "execution_count": null,
   "metadata": {},
   "outputs": [],
   "source": [
    "#用作前后文管理器\n",
    "with requests.Session() as s:\n",
    "    s.get('http://httpbin.org/cookies/set/sessioncookie/123456789')"
   ]
  },
  {
   "cell_type": "markdown",
   "metadata": {},
   "source": [
    "# 请求与响应对象\n",
    "requests requests.Response r.headers"
   ]
  },
  {
   "cell_type": "code",
   "execution_count": null,
   "metadata": {
    "scrolled": false
   },
   "outputs": [],
   "source": [
    "#响应头部信息\n",
    "r = requests.get('http://github.com')\n",
    "r.headers"
   ]
  },
  {
   "cell_type": "code",
   "execution_count": null,
   "metadata": {},
   "outputs": [],
   "source": [
    "r.request.headers"
   ]
  },
  {
   "cell_type": "markdown",
   "metadata": {},
   "source": [
    "# SSL证书验证\n",
    "requests requests.get() requests.get()  \n",
    "requests requests.request() verify  "
   ]
  },
  {
   "cell_type": "code",
   "execution_count": null,
   "metadata": {},
   "outputs": [],
   "source": [
    "requests.get('https://github.com', verify=True)\n",
    "#可信任 CA 证书文件的文件夹路径\n",
    "#requests.get('https://github.com', verify='/path/to/certfile') "
   ]
  },
  {
   "cell_type": "markdown",
   "metadata": {},
   "source": [
    "# 流式请求\n",
    "requests requests.request() stream  \n",
    "requests requests.Response r.encoding  \n",
    "requests requests.Response r.iter_lines()"
   ]
  },
  {
   "cell_type": "code",
   "execution_count": null,
   "metadata": {},
   "outputs": [],
   "source": [
    "r = requests.get('http://httpbin.org/stream/20',stream=True)\n",
    "\n",
    "#你需要提供一个回退编码方式，以防服务器没有提供默认回退编码，从而导致错误\n",
    "if r.encoding is None:\n",
    "    r.encoding = 'utf-8'\n",
    "\n",
    "for line in r.iter_lines():\n",
    "    if line:\n",
    "        decoded_line = line.decode('utf-8')\n",
    "        print(json.loads(decoded_line))"
   ]
  }
 ],
 "metadata": {
  "kernelspec": {
   "display_name": "Python 3",
   "language": "python",
   "name": "python3"
  },
  "language_info": {
   "codemirror_mode": {
    "name": "ipython",
    "version": 3
   },
   "file_extension": ".py",
   "mimetype": "text/x-python",
   "name": "python",
   "nbconvert_exporter": "python",
   "pygments_lexer": "ipython3",
   "version": "3.7.1"
  }
 },
 "nbformat": 4,
 "nbformat_minor": 2
}
