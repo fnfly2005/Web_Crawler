{
 "cells": [
  {
   "cell_type": "markdown",
   "metadata": {},
   "source": [
    "# 初窥Scrapy\n",
    "Scrapy是一个为了爬取网站数据，提取结构性数据而编写的应用框架。 可以应用在包括数据挖掘，信息处理或存储历史数据等一系列的程序中  \n",
    "网站地址：https://docs.scrapy.org/en/latest/index.html  \n",
    "中文教程：https://www.osgeo.cn/scrapy/index.html"
   ]
  },
  {
   "cell_type": "markdown",
   "metadata": {},
   "source": [
    "# Installation guide\n",
    "## Installing Scrapy\n",
    "Scrapy在Python 2.7和Python 3.5或更高版本上运行，运行于CPython（默认Python实现）和pypypy（从pypypy5.9开始）  \n",
    "如果您使用的是Anaconda或Miniconda，则可以从conda forge频道安装该软件包，该频道有最新的Linux、Windows和OS X软件包  \n",
    "To install Scrapy using conda, run:\n",
    "> conda install -c conda-forge scrapy\n",
    "\n",
    "Alternatively, if you’re already familiar with installation of Python packages, you can install Scrapy and its dependencies from PyPI with:\n",
    "> pip install Scrapy\n",
    "\n",
    "请注意，有时这可能需要解决某些零碎依赖项的编译问题，具体取决于您的操作系统，因此请务必查看特定于平台的安装说明5  \n",
    "我们强烈建议您在专用的virtualenv中安装Scrapy，以避免与您的系统包发生冲突  \n",
    "有关更详细的平台说明以及故障排除信息，请继续阅读  \n",
    "### Things that are good to know\n",
    "+ lxml 一个高效的XML和HTML解析器\n",
    "+ parsel ，一个写在lxml上面的html/xml数据提取库,\n",
    "+ w3lib ，用于处理URL和网页编码的多用途帮助程序\n",
    "+ twisted 异步网络框架\n",
    "+ cryptography 和 pyOpenSSL ，处理各种网络级安全需求  \n",
    "\n",
    "### 使用虚拟环境（推荐）\n",
    "我们建议在所有平台上的虚拟环境中安装scrapy  \n",
    "Python包可以在全局（也就是系统范围）或用户空间中安装。我们不建议在系统范围内安装Scrapy  \n",
    "我们建议您在所谓的“虚拟环境”中安装Scrapy"
   ]
  },
  {
   "cell_type": "markdown",
   "metadata": {},
   "source": [
    "# Scrapy教程\n",
    "我们将抓取' quotes.toscrape.com <http: quotes.toscrape.com=\"\"></http:> ' \\_，这是一个列出著名作家名言的网站  \n",
    "本教程将指导您完成以下任务：\n",
    "1. 创建新的Scrapy项目\n",
    "2. 写一篇 spider 对网站进行爬网并提取数据\n",
    "3. 使用命令行导出抓取的数据\n",
    "4. 将spider改为递归跟踪链接\n",
    "5. 使用蜘蛛参数3\n",
    "\n",
    "## 创建项目\n",
    "> scrapy startproject wikiSpider\n",
    "\n",
    "这将创建一个 tutorial 目录包含以下内容：\n",
    "> wikiSpider/  \n",
    "> scrapy.cfg            # deploy configuration file  \n",
    "> wikiSpider/             # project's Python module, you'll import your code from here  \n",
    "> + \\_\\_init\\_\\_.py  \n",
    "> + items.py          # project items definition file  \n",
    "> + middlewares.py    # project middlewares file  \n",
    "> + pipelines.py      # project pipelines file  \n",
    "> + settings.py       # project settings file  \n",
    "> + spiders/          # a directory where you'll later put your spiders  \n",
    ">      + \\_\\_init\\_\\_.py  "
   ]
  }
 ],
 "metadata": {
  "kernelspec": {
   "display_name": "Python 3",
   "language": "python",
   "name": "python3"
  },
  "language_info": {
   "codemirror_mode": {
    "name": "ipython",
    "version": 3
   },
   "file_extension": ".py",
   "mimetype": "text/x-python",
   "name": "python",
   "nbconvert_exporter": "python",
   "pygments_lexer": "ipython3",
   "version": "3.7.6"
  }
 },
 "nbformat": 4,
 "nbformat_minor": 2
}
