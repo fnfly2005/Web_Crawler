{
 "cells": [
  {
   "cell_type": "markdown",
   "metadata": {},
   "source": [
    "# 遍历单个域名\n",
    "python urllib.request u.urlopen()  \n",
    "beautifulsoup4 BeautifulSoup BeautifulSoup()  \n",
    "python re re.compile()  \n",
    "python random r.randint()"
   ]
  },
  {
   "cell_type": "code",
   "execution_count": null,
   "metadata": {
    "scrolled": true
   },
   "outputs": [],
   "source": [
    "from urllib.request import urlopen\n",
    "from bs4 import BeautifulSoup\n",
    "import re\n",
    "html = urlopen(\"http://quotes.toscrape.com/page/1/\")\n",
    "bsObj = BeautifulSoup(html)\n",
    "for link in bsObj.find_all(\"a\",href=re.compile(\"^(/tag/)((?!:).)*$\")):\n",
    "    if 'href' in link.attrs:\n",
    "        print(link.attrs['href'])"
   ]
  },
  {
   "cell_type": "code",
   "execution_count": null,
   "metadata": {},
   "outputs": [],
   "source": [
    "import random\n",
    "def getLinks(articleUrl):\n",
    "    html = urlopen(\"https://baike.baidu.com\"+articleUrl)\n",
    "    bsObj = BeautifulSoup(html)\n",
    "    return bsObj.find_all(\"a\",href=re.compile(\"^/item/.*/[0-9]+$\"))\n",
    "links = getLinks(\"/item/%E9%99%88%E9%81%93%E6%98%8E/27674\")\n",
    "n=0\n",
    "while len(links)>0:\n",
    "    newArticle = links[random.randint(0,len(links)-1)].attrs[\"href\"]\n",
    "    print(newArticle)\n",
    "    links =getLinks(newArticle)\n",
    "    n=n+1\n",
    "    if n ==5:\n",
    "        break"
   ]
  }
 ],
 "metadata": {
  "kernelspec": {
   "display_name": "Python 3",
   "language": "python",
   "name": "python3"
  },
  "language_info": {
   "codemirror_mode": {
    "name": "ipython",
    "version": 3
   },
   "file_extension": ".py",
   "mimetype": "text/x-python",
   "name": "python",
   "nbconvert_exporter": "python",
   "pygments_lexer": "ipython3",
   "version": "3.7.1"
  }
 },
 "nbformat": 4,
 "nbformat_minor": 2
}
